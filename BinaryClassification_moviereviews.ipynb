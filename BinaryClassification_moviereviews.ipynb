{
  "nbformat": 4,
  "nbformat_minor": 0,
  "metadata": {
    "colab": {
      "name": "Untitled0.ipynb",
      "provenance": [],
      "collapsed_sections": [],
      "authorship_tag": "ABX9TyMG2kHpijcY1upcf5ckgBI+",
      "include_colab_link": true
    },
    "kernelspec": {
      "name": "python3",
      "display_name": "Python 3"
    }
  },
  "cells": [
    {
      "cell_type": "markdown",
      "metadata": {
        "id": "view-in-github",
        "colab_type": "text"
      },
      "source": [
        "<a href=\"https://colab.research.google.com/github/ghumman-shahid/DeepLearning_python/blob/main/BinaryClassification_moviereviews.ipynb\" target=\"_parent\"><img src=\"https://colab.research.google.com/assets/colab-badge.svg\" alt=\"Open In Colab\"/></a>"
      ]
    },
    {
      "cell_type": "markdown",
      "metadata": {
        "id": "Zgk_6s8-HKJe"
      },
      "source": [
        "Loading IMDB database\r\n",
        "\r\n",
        "\r\n",
        "\r\n"
      ]
    },
    {
      "cell_type": "code",
      "metadata": {
        "id": "bdpUgcHVDjgz"
      },
      "source": [
        "from keras.datasets import imdb"
      ],
      "execution_count": 1,
      "outputs": []
    },
    {
      "cell_type": "code",
      "metadata": {
        "id": "qVuAfJjzHkvR",
        "colab": {
          "base_uri": "https://localhost:8080/"
        },
        "outputId": "b6abfb35-efd0-4e99-ac45-e7e1be43f668"
      },
      "source": [
        "(train_data, train_labels),(test_data, test_labels) = imdb.load_data(num_words=10000)\r\n"
      ],
      "execution_count": 2,
      "outputs": [
        {
          "output_type": "stream",
          "text": [
            "<string>:6: VisibleDeprecationWarning: Creating an ndarray from ragged nested sequences (which is a list-or-tuple of lists-or-tuples-or ndarrays with different lengths or shapes) is deprecated. If you meant to do this, you must specify 'dtype=object' when creating the ndarray\n",
            "/usr/local/lib/python3.7/dist-packages/tensorflow/python/keras/datasets/imdb.py:159: VisibleDeprecationWarning: Creating an ndarray from ragged nested sequences (which is a list-or-tuple of lists-or-tuples-or ndarrays with different lengths or shapes) is deprecated. If you meant to do this, you must specify 'dtype=object' when creating the ndarray\n",
            "  x_train, y_train = np.array(xs[:idx]), np.array(labels[:idx])\n",
            "/usr/local/lib/python3.7/dist-packages/tensorflow/python/keras/datasets/imdb.py:160: VisibleDeprecationWarning: Creating an ndarray from ragged nested sequences (which is a list-or-tuple of lists-or-tuples-or ndarrays with different lengths or shapes) is deprecated. If you meant to do this, you must specify 'dtype=object' when creating the ndarray\n",
            "  x_test, y_test = np.array(xs[idx:]), np.array(labels[idx:])\n"
          ],
          "name": "stderr"
        }
      ]
    },
    {
      "cell_type": "code",
      "metadata": {
        "id": "mGKQk-HVH9ql"
      },
      "source": [
        "#display(train_data[0])"
      ],
      "execution_count": 3,
      "outputs": []
    },
    {
      "cell_type": "code",
      "metadata": {
        "id": "PwfeOnoBIOqs",
        "colab": {
          "base_uri": "https://localhost:8080/"
        },
        "outputId": "cb640e94-4a4a-481f-eaf1-378d8a07ad4c"
      },
      "source": [
        "train_labels[0]"
      ],
      "execution_count": 4,
      "outputs": [
        {
          "output_type": "execute_result",
          "data": {
            "text/plain": [
              "1"
            ]
          },
          "metadata": {
            "tags": []
          },
          "execution_count": 4
        }
      ]
    },
    {
      "cell_type": "code",
      "metadata": {
        "id": "m7Of3byouH2L",
        "outputId": "97243cad-753b-4b67-925f-87e124220633",
        "colab": {
          "base_uri": "https://localhost:8080/"
        }
      },
      "source": [
        "max([max(sequence) for sequence in train_data])"
      ],
      "execution_count": 5,
      "outputs": [
        {
          "output_type": "execute_result",
          "data": {
            "text/plain": [
              "9999"
            ]
          },
          "metadata": {
            "tags": []
          },
          "execution_count": 5
        }
      ]
    },
    {
      "cell_type": "code",
      "metadata": {
        "id": "MTW9xGRpIZ8y"
      },
      "source": [
        "word_index = imdb.get_word_index()\r\n",
        "reverse_word_index = dict(\r\n",
        "    [(value,key) for (key,value) in word_index.items()])\r\n",
        "decode_review = ' '.join(\r\n",
        "    [reverse_word_index.get(i-3,'?') for i in train_data[0] ])"
      ],
      "execution_count": 6,
      "outputs": []
    },
    {
      "cell_type": "markdown",
      "metadata": {
        "id": "dg4-Kb3vJcK9"
      },
      "source": [
        "Preparing the Data"
      ]
    },
    {
      "cell_type": "code",
      "metadata": {
        "id": "YWaygxpLJWlM"
      },
      "source": [
        "import numpy as np"
      ],
      "execution_count": 7,
      "outputs": []
    },
    {
      "cell_type": "code",
      "metadata": {
        "id": "bk7A8qmuJfwF"
      },
      "source": [
        "def vectorize_sequences(sequences, dimension=10000):\r\n",
        "  results =np.zeros((len(sequences), dimension))\r\n",
        "  for i, sequence in enumerate(sequences):\r\n",
        "    results[i,sequence] = 1.\r\n",
        "    return results"
      ],
      "execution_count": 8,
      "outputs": []
    },
    {
      "cell_type": "code",
      "metadata": {
        "id": "lfxCeZ0RJ_dN"
      },
      "source": [
        "x_train = vectorize_sequences(train_data)\r\n",
        "x_test = vectorize_sequences(test_data)"
      ],
      "execution_count": 9,
      "outputs": []
    },
    {
      "cell_type": "code",
      "metadata": {
        "id": "daeCLjvhKIXz",
        "colab": {
          "base_uri": "https://localhost:8080/"
        },
        "outputId": "e5f14580-476b-43aa-8496-0e0f6ae80ec0"
      },
      "source": [
        "x_train[0]"
      ],
      "execution_count": 10,
      "outputs": [
        {
          "output_type": "execute_result",
          "data": {
            "text/plain": [
              "array([0., 1., 1., ..., 0., 0., 0.])"
            ]
          },
          "metadata": {
            "tags": []
          },
          "execution_count": 10
        }
      ]
    },
    {
      "cell_type": "code",
      "metadata": {
        "id": "W2ozESHbKpFn"
      },
      "source": [
        "y_train = np.asarray(train_labels).astype('float32')\r\n",
        "y_test = np.asarray(test_labels).astype('float32')"
      ],
      "execution_count": 11,
      "outputs": []
    },
    {
      "cell_type": "markdown",
      "metadata": {
        "id": "C9hgoIUcLHvM"
      },
      "source": [
        "Model Definition"
      ]
    },
    {
      "cell_type": "code",
      "metadata": {
        "id": "n407cRLtK27U"
      },
      "source": [
        "from tensorflow.keras import models\r\n",
        "from tensorflow.keras import layers"
      ],
      "execution_count": 12,
      "outputs": []
    },
    {
      "cell_type": "code",
      "metadata": {
        "id": "INYQ3A4QLSKk"
      },
      "source": [
        "model = models.Sequential()\r\n",
        "model.add(layers.Dense(21,activation='relu', input_shape=(10000,)))\r\n",
        "model.add(layers.Dense(21,activation='relu'))\r\n",
        "model.add(layers.Dense(1,activation='sigmoid'))"
      ],
      "execution_count": 13,
      "outputs": []
    },
    {
      "cell_type": "markdown",
      "metadata": {
        "id": "6jNa6UuQL5Hs"
      },
      "source": [
        "Compiling the Model"
      ]
    },
    {
      "cell_type": "code",
      "metadata": {
        "id": "tJgykrMX4KWd"
      },
      "source": [
        "model.compile(optimizer='rmsprop',\r\n",
        "              loss='binary_crossentropy',\r\n",
        "              metrics=['acc'])"
      ],
      "execution_count": 14,
      "outputs": []
    },
    {
      "cell_type": "markdown",
      "metadata": {
        "id": "WTVFz4ifMHr8"
      },
      "source": [
        "Configuring the optimizer"
      ]
    },
    {
      "cell_type": "markdown",
      "metadata": {
        "id": "OPJAUBXeMuac"
      },
      "source": [
        "Validating your Approach"
      ]
    },
    {
      "cell_type": "code",
      "metadata": {
        "id": "t54Hfu1KMytq"
      },
      "source": [
        "\r\n",
        "x_val =x_train[:10000]\r\n",
        "partial_x_train = x_train[10000:]\r\n",
        "\r\n",
        "y_val = y_train[:10000]\r\n",
        "partial_y_train= y_train[10000:]"
      ],
      "execution_count": 15,
      "outputs": []
    },
    {
      "cell_type": "markdown",
      "metadata": {
        "id": "5In49uf2N0fi"
      },
      "source": [
        "Training your model"
      ]
    },
    {
      "cell_type": "code",
      "metadata": {
        "id": "mICffwkyNnZW",
        "colab": {
          "base_uri": "https://localhost:8080/"
        },
        "outputId": "042a6ac2-c8b2-46de-ee4c-0ec7629772ad"
      },
      "source": [
        "history = model.fit(partial_x_train,\r\n",
        "                    partial_y_train,\r\n",
        "                    epochs=21,\r\n",
        "                    batch_size=512,\r\n",
        "                    validation_data=(x_val, y_val))\r\n"
      ],
      "execution_count": 16,
      "outputs": [
        {
          "output_type": "stream",
          "text": [
            "Epoch 1/21\n",
            "30/30 [==============================] - 3s 71ms/step - loss: 0.6932 - acc: 0.4997 - val_loss: 0.6932 - val_acc: 0.4947\n",
            "Epoch 2/21\n",
            "30/30 [==============================] - 1s 47ms/step - loss: 0.6932 - acc: 0.4948 - val_loss: 0.6932 - val_acc: 0.4947\n",
            "Epoch 3/21\n",
            "30/30 [==============================] - 1s 47ms/step - loss: 0.6931 - acc: 0.5030 - val_loss: 0.6932 - val_acc: 0.4947\n",
            "Epoch 4/21\n",
            "30/30 [==============================] - 1s 45ms/step - loss: 0.6932 - acc: 0.4997 - val_loss: 0.6932 - val_acc: 0.4947\n",
            "Epoch 5/21\n",
            "30/30 [==============================] - 1s 43ms/step - loss: 0.6931 - acc: 0.5024 - val_loss: 0.6932 - val_acc: 0.4947\n",
            "Epoch 6/21\n",
            "30/30 [==============================] - 1s 48ms/step - loss: 0.6931 - acc: 0.5051 - val_loss: 0.6932 - val_acc: 0.4947\n",
            "Epoch 7/21\n",
            "30/30 [==============================] - 1s 45ms/step - loss: 0.6931 - acc: 0.5020 - val_loss: 0.6932 - val_acc: 0.4947\n",
            "Epoch 8/21\n",
            "30/30 [==============================] - 1s 50ms/step - loss: 0.6931 - acc: 0.5070 - val_loss: 0.6932 - val_acc: 0.4947\n",
            "Epoch 9/21\n",
            "30/30 [==============================] - 1s 50ms/step - loss: 0.6931 - acc: 0.5066 - val_loss: 0.6932 - val_acc: 0.4947\n",
            "Epoch 10/21\n",
            "30/30 [==============================] - 1s 47ms/step - loss: 0.6931 - acc: 0.5053 - val_loss: 0.6932 - val_acc: 0.4947\n",
            "Epoch 11/21\n",
            "30/30 [==============================] - 1s 50ms/step - loss: 0.6931 - acc: 0.5024 - val_loss: 0.6933 - val_acc: 0.4947\n",
            "Epoch 12/21\n",
            "30/30 [==============================] - 1s 47ms/step - loss: 0.6931 - acc: 0.5032 - val_loss: 0.6932 - val_acc: 0.4947\n",
            "Epoch 13/21\n",
            "30/30 [==============================] - 1s 43ms/step - loss: 0.6931 - acc: 0.5049 - val_loss: 0.6933 - val_acc: 0.4947\n",
            "Epoch 14/21\n",
            "30/30 [==============================] - 1s 48ms/step - loss: 0.6931 - acc: 0.5072 - val_loss: 0.6933 - val_acc: 0.4947\n",
            "Epoch 15/21\n",
            "30/30 [==============================] - 1s 48ms/step - loss: 0.6932 - acc: 0.4996 - val_loss: 0.6933 - val_acc: 0.4947\n",
            "Epoch 16/21\n",
            "30/30 [==============================] - 1s 44ms/step - loss: 0.6931 - acc: 0.5055 - val_loss: 0.6932 - val_acc: 0.4947\n",
            "Epoch 17/21\n",
            "30/30 [==============================] - 1s 42ms/step - loss: 0.6932 - acc: 0.4995 - val_loss: 0.6933 - val_acc: 0.4947\n",
            "Epoch 18/21\n",
            "30/30 [==============================] - 1s 43ms/step - loss: 0.6932 - acc: 0.5015 - val_loss: 0.6933 - val_acc: 0.4947\n",
            "Epoch 19/21\n",
            "30/30 [==============================] - 1s 46ms/step - loss: 0.6932 - acc: 0.5009 - val_loss: 0.6933 - val_acc: 0.4947\n",
            "Epoch 20/21\n",
            "30/30 [==============================] - 2s 52ms/step - loss: 0.6931 - acc: 0.5074 - val_loss: 0.6933 - val_acc: 0.4947\n",
            "Epoch 21/21\n",
            "30/30 [==============================] - 1s 48ms/step - loss: 0.6930 - acc: 0.5111 - val_loss: 0.6932 - val_acc: 0.4947\n"
          ],
          "name": "stdout"
        }
      ]
    },
    {
      "cell_type": "code",
      "metadata": {
        "id": "KTCm0juzq4Kv",
        "outputId": "2aa0ebe5-841c-4946-bfdc-3ef599ac4857",
        "colab": {
          "base_uri": "https://localhost:8080/"
        }
      },
      "source": [
        "history_dict = history.history\r\n",
        "history_dict.keys()"
      ],
      "execution_count": 17,
      "outputs": [
        {
          "output_type": "execute_result",
          "data": {
            "text/plain": [
              "dict_keys(['loss', 'acc', 'val_loss', 'val_acc'])"
            ]
          },
          "metadata": {
            "tags": []
          },
          "execution_count": 17
        }
      ]
    },
    {
      "cell_type": "code",
      "metadata": {
        "id": "VVlxEm95CwEV",
        "outputId": "a27d7762-0989-4fe4-a752-df232e56c421",
        "colab": {
          "base_uri": "https://localhost:8080/",
          "height": 295
        }
      },
      "source": [
        "import matplotlib.pyplot as plt\r\n",
        "history_dict = history.history\r\n",
        "\r\n",
        "loss_values = history_dict['loss']\r\n",
        "val_loss_values = history_dict['val_loss']\r\n",
        "epochs = np.arange(1, len(history_dict[\"acc\"]) + 1)\r\n",
        "plt.plot(epochs, loss_values, 'bo', label='Training loss')\r\n",
        "plt.plot(epochs, val_loss_values, 'b', label='Validation loss')\r\n",
        "plt.title('Training and validation loss')\r\n",
        "plt.xlabel('Epochs')\r\n",
        "plt.ylabel('Loss')\r\n",
        "plt.legend()\r\n",
        "plt.show()"
      ],
      "execution_count": 18,
      "outputs": [
        {
          "output_type": "display_data",
          "data": {
            "image/png": "[encoded data removed]",
            "text/plain": [
              "<Figure size 432x288 with 1 Axes>"
            ]
          },
          "metadata": {
            "tags": [],
            "needs_background": "light"
          }
        }
      ]
    },
    {
      "cell_type": "code",
      "metadata": {
        "id": "ztPx5_R4Dc-C",
        "outputId": "15c71a18-0a70-4ec6-81a7-df93bed55027",
        "colab": {
          "base_uri": "https://localhost:8080/",
          "height": 295
        }
      },
      "source": [
        "plt.clf()\r\n",
        "acc_values = history_dict['acc']\r\n",
        "val_acc_values = history_dict['val_acc']\r\n",
        "plt.plot(epochs, history_dict[\"acc\"], 'bo', label='Training acc')\r\n",
        "plt.plot(epochs, history_dict[\"val_acc\"], 'b', label='Validation acc')\r\n",
        "plt.title('Training and validation accuracy')\r\n",
        "plt.xlabel('Epochs')\r\n",
        "plt.ylabel('Loss')\r\n",
        "plt.legend()\r\n",
        "plt.show()"
      ],
      "execution_count": 19,
      "outputs": [
        {
          "output_type": "display_data",
          "data": {
            "image/png": "[encoded data removed]",
            "text/plain": [
              "<Figure size 432x288 with 1 Axes>"
            ]
          },
          "metadata": {
            "tags": [],
            "needs_background": "light"
          }
        }
      ]
    },
    {
      "cell_type": "code",
      "metadata": {
        "id": "W-RAbafVF7JR",
        "outputId": "c52ee521-b19a-4594-aaf1-df3c914ec6c6",
        "colab": {
          "base_uri": "https://localhost:8080/"
        }
      },
      "source": [
        "model.predict(x_test)"
      ],
      "execution_count": 20,
      "outputs": [
        {
          "output_type": "execute_result",
          "data": {
            "text/plain": [
              "array([[0.48557264],\n",
              "       [0.49657172],\n",
              "       [0.49657172],\n",
              "       ...,\n",
              "       [0.49657172],\n",
              "       [0.49657172],\n",
              "       [0.49657172]], dtype=float32)"
            ]
          },
          "metadata": {
            "tags": []
          },
          "execution_count": 20
        }
      ]
    },
    {
      "cell_type": "code",
      "metadata": {
        "id": "_RQ1A1HkGRUk"
      },
      "source": [
        ""
      ],
      "execution_count": 20,
      "outputs": []
    }
  ]
}